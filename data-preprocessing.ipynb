{
 "cells": [
  {
   "cell_type": "code",
   "execution_count": 1,
   "id": "683724b8",
   "metadata": {
    "_cell_guid": "b1076dfc-b9ad-4769-8c92-a6c4dae69d19",
    "_uuid": "8f2839f25d086af736a60e9eeb907d3b93b6e0e5",
    "execution": {
     "iopub.execute_input": "2023-12-12T22:06:39.621219Z",
     "iopub.status.busy": "2023-12-12T22:06:39.620744Z",
     "iopub.status.idle": "2023-12-12T22:06:41.556627Z",
     "shell.execute_reply": "2023-12-12T22:06:41.555778Z"
    },
    "papermill": {
     "duration": 1.941723,
     "end_time": "2023-12-12T22:06:41.558902",
     "exception": false,
     "start_time": "2023-12-12T22:06:39.617179",
     "status": "completed"
    },
    "tags": []
   },
   "outputs": [],
   "source": [
    "import pandas as pd\n",
    "import random\n",
    "import re\n",
    "from nltk.corpus import stopwords\n",
    "import matplotlib.pyplot as plt\n",
    "from sklearn.model_selection import train_test_split\n"
   ]
  },
  {
   "cell_type": "code",
   "execution_count": 2,
   "id": "15da38d9",
   "metadata": {
    "execution": {
     "iopub.execute_input": "2023-12-12T22:06:41.564942Z",
     "iopub.status.busy": "2023-12-12T22:06:41.564620Z",
     "iopub.status.idle": "2023-12-12T22:06:42.037671Z",
     "shell.execute_reply": "2023-12-12T22:06:42.036908Z"
    },
    "papermill": {
     "duration": 0.478292,
     "end_time": "2023-12-12T22:06:42.039197",
     "exception": false,
     "start_time": "2023-12-12T22:06:41.560905",
     "status": "completed"
    },
    "tags": []
   },
   "outputs": [
    {
     "name": "stdout",
     "output_type": "stream",
     "text": [
      "[nltk_data] Downloading package wordnet to /kaggle/working/...\n",
      "Archive:  /kaggle/working/corpora/wordnet.zip\n",
      "   creating: /kaggle/working/corpora/wordnet/\n",
      "  inflating: /kaggle/working/corpora/wordnet/lexnames  \n",
      "  inflating: /kaggle/working/corpora/wordnet/data.verb  \n",
      "  inflating: /kaggle/working/corpora/wordnet/index.adv  \n",
      "  inflating: /kaggle/working/corpora/wordnet/adv.exc  \n",
      "  inflating: /kaggle/working/corpora/wordnet/index.verb  \n",
      "  inflating: /kaggle/working/corpora/wordnet/cntlist.rev  \n",
      "  inflating: /kaggle/working/corpora/wordnet/data.adj  \n",
      "  inflating: /kaggle/working/corpora/wordnet/index.adj  \n",
      "  inflating: /kaggle/working/corpora/wordnet/LICENSE  \n",
      "  inflating: /kaggle/working/corpora/wordnet/citation.bib  \n",
      "  inflating: /kaggle/working/corpora/wordnet/noun.exc  \n",
      "  inflating: /kaggle/working/corpora/wordnet/verb.exc  \n",
      "  inflating: /kaggle/working/corpora/wordnet/README  \n",
      "  inflating: /kaggle/working/corpora/wordnet/index.sense  \n",
      "  inflating: /kaggle/working/corpora/wordnet/data.noun  \n",
      "  inflating: /kaggle/working/corpora/wordnet/data.adv  \n",
      "  inflating: /kaggle/working/corpora/wordnet/index.noun  \n",
      "  inflating: /kaggle/working/corpora/wordnet/adj.exc  \n"
     ]
    }
   ],
   "source": [
    "import nltk\n",
    "import subprocess\n",
    "\n",
    "try:\n",
    "    nltk.data.find('wordnet.zip')\n",
    "except:\n",
    "    nltk.download('wordnet', download_dir='/kaggle/working/')\n",
    "    command = \"unzip /kaggle/working/corpora/wordnet.zip -d /kaggle/working/corpora\"\n",
    "    subprocess.run(command.split())\n",
    "    nltk.data.path.append('/kaggle/working/')\n",
    "\n",
    "from nltk.corpus import wordnet"
   ]
  },
  {
   "cell_type": "code",
   "execution_count": 3,
   "id": "6f9484d5",
   "metadata": {
    "execution": {
     "iopub.execute_input": "2023-12-12T22:06:42.043983Z",
     "iopub.status.busy": "2023-12-12T22:06:42.043765Z",
     "iopub.status.idle": "2023-12-12T22:06:42.049808Z",
     "shell.execute_reply": "2023-12-12T22:06:42.049299Z"
    },
    "papermill": {
     "duration": 0.010124,
     "end_time": "2023-12-12T22:06:42.051334",
     "exception": false,
     "start_time": "2023-12-12T22:06:42.041210",
     "status": "completed"
    },
    "tags": []
   },
   "outputs": [],
   "source": [
    "from nltk.stem import WordNetLemmatizer\n",
    "\n",
    "def preprocess_data(data: pd.DataFrame) -> pd.DataFrame:\n",
    "    data[\"text\"] = data[\"text\"].apply(lambda x: x.lower())\n",
    "    data[\"text\"] = data[\"text\"].apply(lambda x: re.sub(r\"[^\\w\\s]\", \"\", x))\n",
    "    data[\"text\"] = data[\"text\"].apply(lambda x: re.sub(r\"\\d+\", \"\", x))\n",
    "    stop = stopwords.words(\"english\")\n",
    "    data[\"text\"] = data[\"text\"].apply(\n",
    "        lambda x: \" \".join(x for x in x.split() if x not in stop)\n",
    "    )\n",
    "    lemmatizer = WordNetLemmatizer()\n",
    "    data[\"text\"] = data[\"text\"].apply(\n",
    "        lambda x: \" \".join(lemmatizer.lemmatize(word) for word in x.split())\n",
    "    )\n",
    "    data[\"text\"] = data[\"text\"].apply(\n",
    "        lambda x: \" \".join(x for x in x.split() if len(x) > 3)\n",
    "    )\n",
    "    return data\n"
   ]
  },
  {
   "cell_type": "code",
   "execution_count": 4,
   "id": "f93665ed",
   "metadata": {
    "execution": {
     "iopub.execute_input": "2023-12-12T22:06:42.056066Z",
     "iopub.status.busy": "2023-12-12T22:06:42.055690Z",
     "iopub.status.idle": "2023-12-12T22:06:43.455592Z",
     "shell.execute_reply": "2023-12-12T22:06:43.454965Z"
    },
    "papermill": {
     "duration": 1.404176,
     "end_time": "2023-12-12T22:06:43.457368",
     "exception": false,
     "start_time": "2023-12-12T22:06:42.053192",
     "status": "completed"
    },
    "tags": []
   },
   "outputs": [],
   "source": [
    "data = pd.read_csv(\"/kaggle/input/binary-text-classification/sports_sci-tech.csv\")\n",
    "data = preprocess_data(data)"
   ]
  },
  {
   "cell_type": "code",
   "execution_count": 5,
   "id": "6927652e",
   "metadata": {
    "execution": {
     "iopub.execute_input": "2023-12-12T22:06:43.462787Z",
     "iopub.status.busy": "2023-12-12T22:06:43.462389Z",
     "iopub.status.idle": "2023-12-12T22:06:43.510176Z",
     "shell.execute_reply": "2023-12-12T22:06:43.509382Z"
    },
    "papermill": {
     "duration": 0.052616,
     "end_time": "2023-12-12T22:06:43.512127",
     "exception": false,
     "start_time": "2023-12-12T22:06:43.459511",
     "status": "completed"
    },
    "tags": []
   },
   "outputs": [],
   "source": [
    "from sklearn.model_selection import train_test_split\n",
    "train_data, test_data = train_test_split(data, test_size=0.2, random_state=42)\n",
    "train_processed = preprocess_data(train_data.copy())\n",
    "test_processed = preprocess_data(test_data.copy())"
   ]
  },
  {
   "cell_type": "code",
   "execution_count": 6,
   "id": "2c15e0d8",
   "metadata": {
    "execution": {
     "iopub.execute_input": "2023-12-12T22:06:43.517230Z",
     "iopub.status.busy": "2023-12-12T22:06:43.516985Z",
     "iopub.status.idle": "2023-12-12T22:06:43.523902Z",
     "shell.execute_reply": "2023-12-12T22:06:43.523270Z"
    },
    "papermill": {
     "duration": 0.01118,
     "end_time": "2023-12-12T22:06:43.525536",
     "exception": false,
     "start_time": "2023-12-12T22:06:43.514356",
     "status": "completed"
    },
    "tags": []
   },
   "outputs": [],
   "source": [
    "train_processed.to_csv('train_processed.csv', index=False)\n",
    "test_processed.to_csv('test_processed.csv', index=False)\n"
   ]
  }
 ],
 "metadata": {
  "kaggle": {
   "accelerator": "none",
   "dataSources": [
    {
     "datasetId": 4024535,
     "sourceId": 7000900,
     "sourceType": "datasetVersion"
    }
   ],
   "dockerImageVersionId": 30587,
   "isGpuEnabled": false,
   "isInternetEnabled": true,
   "language": "python",
   "sourceType": "notebook"
  },
  "kernelspec": {
   "display_name": "Python 3",
   "language": "python",
   "name": "python3"
  },
  "language_info": {
   "codemirror_mode": {
    "name": "ipython",
    "version": 3
   },
   "file_extension": ".py",
   "mimetype": "text/x-python",
   "name": "python",
   "nbconvert_exporter": "python",
   "pygments_lexer": "ipython3",
   "version": "3.10.12"
  },
  "papermill": {
   "default_parameters": {},
   "duration": 6.97771,
   "end_time": "2023-12-12T22:06:44.145351",
   "environment_variables": {},
   "exception": null,
   "input_path": "__notebook__.ipynb",
   "output_path": "__notebook__.ipynb",
   "parameters": {},
   "start_time": "2023-12-12T22:06:37.167641",
   "version": "2.4.0"
  }
 },
 "nbformat": 4,
 "nbformat_minor": 5
}
